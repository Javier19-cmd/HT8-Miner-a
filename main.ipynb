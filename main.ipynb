{
 "cells": [
  {
   "attachments": {},
   "cell_type": "markdown",
   "metadata": {},
   "source": [
    "## Hoja de Trabajo 8\n",
    "\n",
    "### Roberto Ríos, 20979\n",
    "### Javier Valle, 20159"
   ]
  },
  {
   "cell_type": "code",
   "execution_count": 23,
   "metadata": {},
   "outputs": [],
   "source": [
    "# Imports necesarios.\n",
    "import pandas as pd\n",
    "import numpy as np\n",
    "from sklearn import tree\n",
    "import matplotlib.pyplot as plt\n",
    "from sklearn.model_selection import train_test_split\n",
    "from sklearn.datasets import load_breast_cancer\n",
    "from sklearn.preprocessing import StandardScaler\n",
    "from sklearn.svm import SVC\n",
    "from sklearn.metrics import confusion_matrix\n",
    "from keras.models import Sequential\n",
    "from keras.layers import Dense\n",
    "from keras.utils import to_categorical\n",
    "from sklearn.preprocessing import LabelEncoder\n",
    "from sklearn.impute import SimpleImputer"
   ]
  },
  {
   "attachments": {},
   "cell_type": "markdown",
   "metadata": {},
   "source": [
    "### 1. Use los mismos conjuntos de entrenamiento y prueba que utilizó en las hojas anteriores."
   ]
  },
  {
   "cell_type": "code",
   "execution_count": null,
   "metadata": {},
   "outputs": [],
   "source": [
    "\n",
    "# Conjuntos de entrenamiento y prueba de la Hoja 5.\n",
    "\n",
    "# Abriendo el archivo clasficado.\n",
    "datos = pd.read_csv('archivo_clasificado.csv')\n",
    "\n",
    "# Limpieza de datos.\n",
    "datos = datos.replace(to_replace='',value=0)\n",
    "datos = datos.fillna(0)\n",
    "cat = datos.select_dtypes(include=['object']).columns.to_list()\n",
    "num = datos.select_dtypes(include=['number']).columns.to_list()\n",
    "\n",
    "# Pasando todo a un Dataframe.\n",
    "x = pd.DataFrame()\n",
    "x[num] = datos[num]\n",
    "x[cat] = datos[cat].apply(lambda x: pd.factorize(x)[0])\n",
    "res = 'Clasificacion'\n",
    "X = x.drop(res, axis=1)\n",
    "y = datos[res]\n",
    "\n",
    "# Imprimiendo la clasificación.\n",
    "print(\"Clasificación: \", y)\n",
    "\n",
    "# Divide los datos en conjuntos de entrenamiento y prueba\n",
    "X_train, X_test, y_train, y_test = train_test_split(X, y, test_size=0.3, random_state=0)\n",
    "\n",
    "# Crea un clasificador de árbol de decisión\n",
    "clf = tree.DecisionTreeClassifier( max_depth=4 )\n",
    "\n",
    "# Entrena el clasificador en el conjunto de entrenamiento\n",
    "clf.fit(X_train, y_train)\n",
    "\n",
    "# # Accurancy.\n",
    "print(\"Precisión:\", clf.score(X_test, y_test))\n",
    "\n",
    "fig, ax = plt.subplots(figsize=(12, 8))\n",
    "tree.plot_tree(clf, fontsize=4, feature_names=y, filled=True)\n",
    "\n",
    "# Abriendo el archivo clasficado.\n",
    "datos = pd.read_csv('archivo_clasificado.csv')\n",
    "\n",
    "# Limpieza de datos.\n",
    "datos = datos.replace(to_replace='',value=0)\n",
    "datos = datos.fillna(0)\n",
    "cat = datos.select_dtypes(include=['object']).columns.to_list()\n",
    "num = datos.select_dtypes(include=['number']).columns.to_list()\n",
    "\n",
    "# Pasando todo a un Dataframe.\n",
    "x = pd.DataFrame()\n",
    "x[num] = datos[num]\n",
    "x[cat] = datos[cat].apply(lambda x: pd.factorize(x)[0])\n",
    "res = 'OverallCond'\n",
    "X = x.drop(res, axis=1)\n",
    "y = datos[res]\n",
    "\n",
    "# Imprimiendo la clasificación.\n",
    "print(\"OverallCond: \", y)\n",
    "\n",
    "# Divide los datos en conjuntos de entrenamiento y prueba\n",
    "X_train, X_test, y_train, y_test = train_test_split(X, y, test_size=0.3, random_state=0)\n",
    "\n",
    "# Crea un clasificador de árbol de decisión\n",
    "clf = tree.DecisionTreeClassifier( max_depth=4 )\n",
    "\n",
    "# Entrena el clasificador en el conjunto de entrenamiento\n",
    "clf.fit(X_train, y_train)\n",
    "\n",
    "\n",
    "# Accurancy.\n",
    "print(\"Precisión:\", clf.score(X_test, y_test))\n",
    "\n",
    "# Haciendo una predicción.\n",
    "y_pred = clf.predict(X_test)\n",
    "\n",
    "print(\"Predicción:\", y_pred)\n",
    "\n",
    "fig, ax = plt.subplots(figsize=(12, 8))\n",
    "tree.plot_tree(clf, fontsize=4, feature_names=y, filled=True)"
   ]
  },
  {
   "attachments": {},
   "cell_type": "markdown",
   "metadata": {},
   "source": [
    "### 2. Seleccione como variable respuesta la que creó con las categorías del precio de la casa."
   ]
  },
  {
   "cell_type": "code",
   "execution_count": 4,
   "metadata": {},
   "outputs": [
    {
     "data": {
      "text/plain": [
       "0       1\n",
       "1       0\n",
       "2       1\n",
       "3       0\n",
       "4       1\n",
       "       ..\n",
       "1455    0\n",
       "1456    1\n",
       "1457    1\n",
       "1458    0\n",
       "1459    0\n",
       "Name: Clasificacion, Length: 1460, dtype: int64"
      ]
     },
     "execution_count": 4,
     "metadata": {},
     "output_type": "execute_result"
    }
   ],
   "source": [
    "# Abriendo el archivo.\n",
    "datos = pd.read_csv(\"archivo_clasificado.csv\")\n",
    "\n",
    "# Quitando los na del dataset.\n",
    "datos = datos.replace(to_replace='',value=0)\n",
    "datos = datos.fillna(0)\n",
    "\n",
    "datos\n",
    "\n",
    "# Usando como variable de respuesta la variable categórica que especifica si la casa es barata, media o cara.\n",
    "res = \"Clasificacion\"\n",
    "\n",
    "datos[res]"
   ]
  },
  {
   "attachments": {},
   "cell_type": "markdown",
   "metadata": {},
   "source": [
    "### 3. Genere  dos modelos  de  redes  neuronales  que  sean  capaz  de  clasificar  usando  la variable respuesta que categoriza las casas en baratas, medias y caras. Estos modelos deben tener  diferentes topologías y funciones de activación."
   ]
  },
  {
   "cell_type": "code",
   "execution_count": 34,
   "metadata": {},
   "outputs": [
    {
     "data": {
      "text/plain": [
       "<keras.callbacks.History at 0x20038ba3130>"
      ]
     },
     "execution_count": 34,
     "metadata": {},
     "output_type": "execute_result"
    }
   ],
   "source": [
    "# Abriendo el archivo clasficado.\n",
    "df = pd.read_csv('archivo_clasificado.csv')\n",
    "\n",
    "le = LabelEncoder()\n",
    "df['Clasificacion'] = le.fit_transform(df['Clasificacion'])\n",
    "\n",
    "X = df.drop('Clasificacion', axis=1)\n",
    "y = df['Clasificacion']\n",
    "X_train, X_test, y_train, y_test = train_test_split(X, y, test_size=0.2, random_state=42)\n",
    "\n",
    "# Convertir y_train a una variable categórica one-hot encoded\n",
    "num_classes = len(np.unique(y_train))\n",
    "y_train = to_categorical(y_train, num_classes=num_classes)\n",
    "\n",
    "# Imputar valores nulos en X_train y X_test\n",
    "X_train = X_train.fillna('missing')\n",
    "X_test = X_test.fillna('missing')\n",
    "\n",
    "# One-hot encoding de variables categóricas en X_train y X_test\n",
    "cat_cols = X_train.select_dtypes(include=['object', 'category']).columns\n",
    "X_train = pd.get_dummies(X_train, columns=cat_cols)\n",
    "X_test = pd.get_dummies(X_test, columns=cat_cols)\n",
    "\n",
    "# Modelo 1: red neuronal con una capa oculta de 8 neuronas y función de activación ReLU\n",
    "model1 = Sequential()\n",
    "model1.add(Dense(8, input_dim=X_train.shape[1], activation='relu'))\n",
    "model1.add(Dense(num_classes, activation='softmax'))\n",
    "\n",
    "# Compilar modelo\n",
    "model1.compile(loss='categorical_crossentropy', optimizer='adam', metrics=['accuracy'])\n",
    "\n",
    "# Ajustar modelo\n",
    "model1.fit(X_train, y_train, epochs=50, batch_size=32, verbose=0)\n",
    "\n",
    "# Modelo 2: red neuronal con dos capas ocultas de 16 y 8 neuronas y función de activación sigmoidal\n",
    "model2 = Sequential()\n",
    "model2.add(Dense(16, input_dim=X_train.shape[1], activation='sigmoid'))\n",
    "model2.add(Dense(8, activation='sigmoid'))\n",
    "model2.add(Dense(num_classes, activation='softmax'))\n",
    "\n",
    "# Compilar modelos\n",
    "model1.compile(loss='categorical_crossentropy', optimizer='adam', metrics=['accuracy'])\n",
    "model2.compile(loss='categorical_crossentropy', optimizer='adam', metrics=['accuracy'])\n",
    "\n",
    "# Ajustar modelos\n",
    "model1.fit(X_train, y_train, epochs=50, batch_size=32, verbose=0)\n",
    "model2.fit(X_train, y_train, epochs=50, batch_size=32, verbose=0)\n"
   ]
  },
  {
   "attachments": {},
   "cell_type": "markdown",
   "metadata": {},
   "source": [
    "### 4. Use los modelos para predecir el valor de la variable respuesta "
   ]
  },
  {
   "cell_type": "code",
   "execution_count": 35,
   "metadata": {},
   "outputs": [],
   "source": [
    "# Abriendo el archivo clasficado.\n",
    "df = pd.read_csv('archivo_clasificado.csv')\n",
    "\n",
    "le = LabelEncoder()\n",
    "df['Clasificacion'] = le.fit_transform(df['Clasificacion'])\n",
    "\n",
    "X = df.drop('Clasificacion', axis=1)\n",
    "y = df['Clasificacion']\n",
    "X_train, X_test, y_train, y_test = train_test_split(X, y, test_size=0.2, random_state=42)\n",
    "\n",
    "# Convertir y_train a una variable categórica one-hot encoded\n",
    "num_classes = len(np.unique(y_train))\n",
    "y_train = to_categorical(y_train, num_classes=num_classes)\n",
    "\n",
    "# Imputar valores nulos en X_train y X_test\n",
    "X_train = X_train.fillna('missing')\n",
    "X_test = X_test.fillna('missing')\n",
    "\n",
    "# One-hot encoding de variables categóricas en X_train y X_test\n",
    "cat_cols = X_train.select_dtypes(include=['object', 'category']).columns\n",
    "X_train = pd.get_dummies(X_train, columns=cat_cols)\n",
    "X_test = pd.get_dummies(X_test, columns=cat_cols)\n",
    "\n",
    "# Modelo 1: red neuronal con una capa oculta de 8 neuronas y función de activación ReLU\n",
    "model1 = Sequential()\n",
    "model1.add(Dense(8, input_dim=X_train.shape[1], activation='relu'))\n",
    "model1.add(Dense(num_classes, activation='softmax'))\n",
    "\n",
    "# Compilar modelo\n",
    "model1.compile(loss='categorical_crossentropy', optimizer='adam', metrics=['accuracy'])\n",
    "\n",
    "# Ajustar modelo\n",
    "model1.fit(X_train, y_train, epochs=50, batch_size=32, verbose=0)\n",
    "\n",
    "# Modelo 2: red neuronal con dos capas ocultas de 16 y 8 neuronas y función de activación sigmoidal\n",
    "model2 = Sequential()\n",
    "model2.add(Dense(16, input_dim=X_train.shape[1], activation='sigmoid'))\n",
    "model2.add(Dense(8, activation='sigmoid'))\n",
    "model2.add(Dense(num_classes, activation='softmax'))\n",
    "\n",
    "# Compilar modelos\n",
    "model1.compile(loss='categorical_crossentropy', optimizer='adam', metrics=['accuracy'])\n",
    "model2.compile(loss='categorical_crossentropy', optimizer='adam', metrics=['accuracy'])\n",
    "\n",
    "# Ajustar modelos\n",
    "model1.fit(X_train, y_train, epochs=50, batch_size=32, verbose=0)\n",
    "model2.fit(X_train, y_train, epochs=50, batch_size=32, verbose=0)\n"
   ]
  }
 ],
 "metadata": {
  "kernelspec": {
   "display_name": "Python 3",
   "language": "python",
   "name": "python3"
  },
  "language_info": {
   "codemirror_mode": {
    "name": "ipython",
    "version": 3
   },
   "file_extension": ".py",
   "mimetype": "text/x-python",
   "name": "python",
   "nbconvert_exporter": "python",
   "pygments_lexer": "ipython3",
   "version": "3.10.11"
  },
  "orig_nbformat": 4
 },
 "nbformat": 4,
 "nbformat_minor": 2
}
